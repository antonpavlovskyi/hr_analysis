{
 "cells": [
  {
   "cell_type": "markdown",
   "id": "5aa1269a",
   "metadata": {},
   "source": [
    "# Statistical analysis of hr characteristics of a company. Using A/B testing and LDA (Linear discriminant analysis) model"
   ]
  },
  {
   "cell_type": "code",
   "execution_count": 1,
   "id": "80d31474",
   "metadata": {},
   "outputs": [],
   "source": [
    "import pandas as pd\n",
    "import matplotlib.pyplot as plt\n",
    "import seaborn as sns\n",
    "from scipy import stats"
   ]
  },
  {
   "cell_type": "code",
   "execution_count": 2,
   "id": "cbe72592",
   "metadata": {},
   "outputs": [],
   "source": [
    "#this setting make figures lager\n",
    "from pylab import rcParams\n",
    "rcParams['figure.figsize'] = 13,6"
   ]
  },
  {
   "cell_type": "markdown",
   "id": "9eaad367",
   "metadata": {},
   "source": [
    "## 1. Loading the source file"
   ]
  },
  {
   "cell_type": "code",
   "execution_count": 7,
   "id": "aac22f0c",
   "metadata": {},
   "outputs": [
    {
     "data": {
      "text/plain": "   satisfaction_level  last_evaluation  number_project  average_monthly_hours  \\\n0                0.38             0.53               2                    157   \n1                0.80             0.86               5                    262   \n2                0.11             0.88               7                    272   \n3                0.72             0.87               5                    223   \n4                0.37             0.52               2                    159   \n\n   time_spend_company  Work_accident  left  promotion_last_5years department  \\\n0                   3              0     1                      0      sales   \n1                   6              0     1                      0      sales   \n2                   4              0     1                      0      sales   \n3                   5              0     1                      0      sales   \n4                   3              0     1                      0      sales   \n\n   salary  \n0     low  \n1  medium  \n2  medium  \n3     low  \n4     low  ",
      "text/html": "<div>\n<style scoped>\n    .dataframe tbody tr th:only-of-type {\n        vertical-align: middle;\n    }\n\n    .dataframe tbody tr th {\n        vertical-align: top;\n    }\n\n    .dataframe thead th {\n        text-align: right;\n    }\n</style>\n<table border=\"1\" class=\"dataframe\">\n  <thead>\n    <tr style=\"text-align: right;\">\n      <th></th>\n      <th>satisfaction_level</th>\n      <th>last_evaluation</th>\n      <th>number_project</th>\n      <th>average_monthly_hours</th>\n      <th>time_spend_company</th>\n      <th>Work_accident</th>\n      <th>left</th>\n      <th>promotion_last_5years</th>\n      <th>department</th>\n      <th>salary</th>\n    </tr>\n  </thead>\n  <tbody>\n    <tr>\n      <th>0</th>\n      <td>0.38</td>\n      <td>0.53</td>\n      <td>2</td>\n      <td>157</td>\n      <td>3</td>\n      <td>0</td>\n      <td>1</td>\n      <td>0</td>\n      <td>sales</td>\n      <td>low</td>\n    </tr>\n    <tr>\n      <th>1</th>\n      <td>0.80</td>\n      <td>0.86</td>\n      <td>5</td>\n      <td>262</td>\n      <td>6</td>\n      <td>0</td>\n      <td>1</td>\n      <td>0</td>\n      <td>sales</td>\n      <td>medium</td>\n    </tr>\n    <tr>\n      <th>2</th>\n      <td>0.11</td>\n      <td>0.88</td>\n      <td>7</td>\n      <td>272</td>\n      <td>4</td>\n      <td>0</td>\n      <td>1</td>\n      <td>0</td>\n      <td>sales</td>\n      <td>medium</td>\n    </tr>\n    <tr>\n      <th>3</th>\n      <td>0.72</td>\n      <td>0.87</td>\n      <td>5</td>\n      <td>223</td>\n      <td>5</td>\n      <td>0</td>\n      <td>1</td>\n      <td>0</td>\n      <td>sales</td>\n      <td>low</td>\n    </tr>\n    <tr>\n      <th>4</th>\n      <td>0.37</td>\n      <td>0.52</td>\n      <td>2</td>\n      <td>159</td>\n      <td>3</td>\n      <td>0</td>\n      <td>1</td>\n      <td>0</td>\n      <td>sales</td>\n      <td>low</td>\n    </tr>\n  </tbody>\n</table>\n</div>"
     },
     "execution_count": 7,
     "metadata": {},
     "output_type": "execute_result"
    }
   ],
   "source": [
    "hr = pd.read_csv('hr_source_file.csv')\n",
    "hr.head()"
   ]
  },
  {
   "cell_type": "markdown",
   "id": "57c3cc6d",
   "metadata": {},
   "source": [
    "## 2.1. Calculate main statistical characteristics for applicable variables (mean, median, min/max, STD)."
   ]
  },
  {
   "cell_type": "code",
   "execution_count": 8,
   "id": "8807db49",
   "metadata": {},
   "outputs": [
    {
     "data": {
      "text/plain": "       satisfaction_level  last_evaluation  number_project  \\\ncount        14999.000000     14999.000000    14999.000000   \nmean             0.612834         0.716102        3.803054   \nstd              0.248631         0.171169        1.232592   \nmin              0.090000         0.360000        2.000000   \n25%              0.440000         0.560000        3.000000   \n50%              0.640000         0.720000        4.000000   \n75%              0.820000         0.870000        5.000000   \nmax              1.000000         1.000000        7.000000   \n\n       average_monthly_hours  time_spend_company  Work_accident          left  \\\ncount           14999.000000        14999.000000   14999.000000  14999.000000   \nmean              201.050337            3.498233       0.144610      0.238083   \nstd                49.943099            1.460136       0.351719      0.425924   \nmin                96.000000            2.000000       0.000000      0.000000   \n25%               156.000000            3.000000       0.000000      0.000000   \n50%               200.000000            3.000000       0.000000      0.000000   \n75%               245.000000            4.000000       0.000000      0.000000   \nmax               310.000000           10.000000       1.000000      1.000000   \n\n       promotion_last_5years  \ncount           14999.000000  \nmean                0.021268  \nstd                 0.144281  \nmin                 0.000000  \n25%                 0.000000  \n50%                 0.000000  \n75%                 0.000000  \nmax                 1.000000  ",
      "text/html": "<div>\n<style scoped>\n    .dataframe tbody tr th:only-of-type {\n        vertical-align: middle;\n    }\n\n    .dataframe tbody tr th {\n        vertical-align: top;\n    }\n\n    .dataframe thead th {\n        text-align: right;\n    }\n</style>\n<table border=\"1\" class=\"dataframe\">\n  <thead>\n    <tr style=\"text-align: right;\">\n      <th></th>\n      <th>satisfaction_level</th>\n      <th>last_evaluation</th>\n      <th>number_project</th>\n      <th>average_monthly_hours</th>\n      <th>time_spend_company</th>\n      <th>Work_accident</th>\n      <th>left</th>\n      <th>promotion_last_5years</th>\n    </tr>\n  </thead>\n  <tbody>\n    <tr>\n      <th>count</th>\n      <td>14999.000000</td>\n      <td>14999.000000</td>\n      <td>14999.000000</td>\n      <td>14999.000000</td>\n      <td>14999.000000</td>\n      <td>14999.000000</td>\n      <td>14999.000000</td>\n      <td>14999.000000</td>\n    </tr>\n    <tr>\n      <th>mean</th>\n      <td>0.612834</td>\n      <td>0.716102</td>\n      <td>3.803054</td>\n      <td>201.050337</td>\n      <td>3.498233</td>\n      <td>0.144610</td>\n      <td>0.238083</td>\n      <td>0.021268</td>\n    </tr>\n    <tr>\n      <th>std</th>\n      <td>0.248631</td>\n      <td>0.171169</td>\n      <td>1.232592</td>\n      <td>49.943099</td>\n      <td>1.460136</td>\n      <td>0.351719</td>\n      <td>0.425924</td>\n      <td>0.144281</td>\n    </tr>\n    <tr>\n      <th>min</th>\n      <td>0.090000</td>\n      <td>0.360000</td>\n      <td>2.000000</td>\n      <td>96.000000</td>\n      <td>2.000000</td>\n      <td>0.000000</td>\n      <td>0.000000</td>\n      <td>0.000000</td>\n    </tr>\n    <tr>\n      <th>25%</th>\n      <td>0.440000</td>\n      <td>0.560000</td>\n      <td>3.000000</td>\n      <td>156.000000</td>\n      <td>3.000000</td>\n      <td>0.000000</td>\n      <td>0.000000</td>\n      <td>0.000000</td>\n    </tr>\n    <tr>\n      <th>50%</th>\n      <td>0.640000</td>\n      <td>0.720000</td>\n      <td>4.000000</td>\n      <td>200.000000</td>\n      <td>3.000000</td>\n      <td>0.000000</td>\n      <td>0.000000</td>\n      <td>0.000000</td>\n    </tr>\n    <tr>\n      <th>75%</th>\n      <td>0.820000</td>\n      <td>0.870000</td>\n      <td>5.000000</td>\n      <td>245.000000</td>\n      <td>4.000000</td>\n      <td>0.000000</td>\n      <td>0.000000</td>\n      <td>0.000000</td>\n    </tr>\n    <tr>\n      <th>max</th>\n      <td>1.000000</td>\n      <td>1.000000</td>\n      <td>7.000000</td>\n      <td>310.000000</td>\n      <td>10.000000</td>\n      <td>1.000000</td>\n      <td>1.000000</td>\n      <td>1.000000</td>\n    </tr>\n  </tbody>\n</table>\n</div>"
     },
     "execution_count": 8,
     "metadata": {},
     "output_type": "execute_result"
    }
   ],
   "source": [
    "hr.describe()"
   ]
  },
  {
   "cell_type": "markdown",
   "id": "2b765562",
   "metadata": {},
   "source": [
    "## 2.2. Calculate main statistical characteristics for applicable variables (mode)."
   ]
  },
  {
   "cell_type": "code",
   "execution_count": 5,
   "id": "e8189cd7",
   "metadata": {},
   "outputs": [
    {
     "data": {
      "text/plain": "   satisfaction_level  last_evaluation  number_project  average_montly_hours  \\\n0                 0.1             0.55             4.0                   135   \n\n   time_spend_company  Work_accident  left  promotion_last_5years department  \\\n0                 3.0            0.0   0.0                    0.0      sales   \n\n  salary  \n0    low  ",
      "text/html": "<div>\n<style scoped>\n    .dataframe tbody tr th:only-of-type {\n        vertical-align: middle;\n    }\n\n    .dataframe tbody tr th {\n        vertical-align: top;\n    }\n\n    .dataframe thead th {\n        text-align: right;\n    }\n</style>\n<table border=\"1\" class=\"dataframe\">\n  <thead>\n    <tr style=\"text-align: right;\">\n      <th></th>\n      <th>satisfaction_level</th>\n      <th>last_evaluation</th>\n      <th>number_project</th>\n      <th>average_montly_hours</th>\n      <th>time_spend_company</th>\n      <th>Work_accident</th>\n      <th>left</th>\n      <th>promotion_last_5years</th>\n      <th>department</th>\n      <th>salary</th>\n    </tr>\n  </thead>\n  <tbody>\n    <tr>\n      <th>0</th>\n      <td>0.1</td>\n      <td>0.55</td>\n      <td>4.0</td>\n      <td>135</td>\n      <td>3.0</td>\n      <td>0.0</td>\n      <td>0.0</td>\n      <td>0.0</td>\n      <td>sales</td>\n      <td>low</td>\n    </tr>\n  </tbody>\n</table>\n</div>"
     },
     "execution_count": 5,
     "metadata": {},
     "output_type": "execute_result"
    }
   ],
   "source": [
    "hr.mode(dropna=True).drop(1)"
   ]
  },
  {
   "cell_type": "markdown",
   "id": "f889fa3a",
   "metadata": {},
   "source": [
    "## 3.1. Calculate and visualize correlation matrix for quantitative variables."
   ]
  },
  {
   "cell_type": "code",
   "execution_count": 9,
   "id": "acd15960",
   "metadata": {},
   "outputs": [
    {
     "data": {
      "text/plain": "                       satisfaction_level  last_evaluation  number_project  \\\nsatisfaction_level               1.000000         0.105021       -0.142970   \nlast_evaluation                  0.105021         1.000000        0.349333   \nnumber_project                  -0.142970         0.349333        1.000000   \naverage_monthly_hours           -0.020048         0.339742        0.417211   \ntime_spend_company              -0.100866         0.131591        0.196786   \n\n                       average_monthly_hours  time_spend_company  \nsatisfaction_level                 -0.020048           -0.100866  \nlast_evaluation                     0.339742            0.131591  \nnumber_project                      0.417211            0.196786  \naverage_monthly_hours               1.000000            0.127755  \ntime_spend_company                  0.127755            1.000000  ",
      "text/html": "<div>\n<style scoped>\n    .dataframe tbody tr th:only-of-type {\n        vertical-align: middle;\n    }\n\n    .dataframe tbody tr th {\n        vertical-align: top;\n    }\n\n    .dataframe thead th {\n        text-align: right;\n    }\n</style>\n<table border=\"1\" class=\"dataframe\">\n  <thead>\n    <tr style=\"text-align: right;\">\n      <th></th>\n      <th>satisfaction_level</th>\n      <th>last_evaluation</th>\n      <th>number_project</th>\n      <th>average_monthly_hours</th>\n      <th>time_spend_company</th>\n    </tr>\n  </thead>\n  <tbody>\n    <tr>\n      <th>satisfaction_level</th>\n      <td>1.000000</td>\n      <td>0.105021</td>\n      <td>-0.142970</td>\n      <td>-0.020048</td>\n      <td>-0.100866</td>\n    </tr>\n    <tr>\n      <th>last_evaluation</th>\n      <td>0.105021</td>\n      <td>1.000000</td>\n      <td>0.349333</td>\n      <td>0.339742</td>\n      <td>0.131591</td>\n    </tr>\n    <tr>\n      <th>number_project</th>\n      <td>-0.142970</td>\n      <td>0.349333</td>\n      <td>1.000000</td>\n      <td>0.417211</td>\n      <td>0.196786</td>\n    </tr>\n    <tr>\n      <th>average_monthly_hours</th>\n      <td>-0.020048</td>\n      <td>0.339742</td>\n      <td>0.417211</td>\n      <td>1.000000</td>\n      <td>0.127755</td>\n    </tr>\n    <tr>\n      <th>time_spend_company</th>\n      <td>-0.100866</td>\n      <td>0.131591</td>\n      <td>0.196786</td>\n      <td>0.127755</td>\n      <td>1.000000</td>\n    </tr>\n  </tbody>\n</table>\n</div>"
     },
     "execution_count": 9,
     "metadata": {},
     "output_type": "execute_result"
    }
   ],
   "source": [
    "hr_quantitative_corr = hr[['satisfaction_level', 'last_evaluation', 'number_project', 'average_monthly_hours', 'time_spend_company']].corr()\n",
    "hr_quantitative_corr"
   ]
  },
  {
   "cell_type": "code",
   "execution_count": 17,
   "id": "5c6eaa0c",
   "metadata": {},
   "outputs": [
    {
     "data": {
      "text/plain": "<Figure size 936x432 with 2 Axes>",
      "image/png": "[encoded data removed]"
     },
     "metadata": {
      "needs_background": "light"
     },
     "output_type": "display_data"
    }
   ],
   "source": [
    "sns.heatmap(hr_quantitative_corr, annot=True).set(title='Quantitative correlation coefficients heatmap representation');"
   ]
  },
  {
   "cell_type": "markdown",
   "id": "ee86137a",
   "metadata": {},
   "source": [
    "## 3.2. Determine two most and least correlated variables:\n",
    "\n",
    "- Two most correlated variables - average_monthly_hours, number_project (0.42)\n",
    "- Two least correlated variables - average_monthly_hours, satisfaction_level (-0.02)"
   ]
  },
  {
   "cell_type": "markdown",
   "id": "26f04443",
   "metadata": {},
   "source": [
    "## 4. Calculate the number of employees in every department."
   ]
  },
  {
   "cell_type": "code",
   "execution_count": 11,
   "id": "54850fd3",
   "metadata": {},
   "outputs": [
    {
     "data": {
      "text/plain": "department\nsales          4140\ntechnical      2720\nsupport        2229\nIT             1227\nproduct_mng     902\nmarketing       858\nRandD           787\naccounting      767\nhr              739\nmanagement      630\nName: salary, dtype: int64"
     },
     "execution_count": 11,
     "metadata": {},
     "output_type": "execute_result"
    }
   ],
   "source": [
    "hr_by_department = hr.groupby('department').count().sort_values('salary', ascending=False)['salary']\n",
    "hr_by_department"
   ]
  },
  {
   "cell_type": "markdown",
   "id": "7cc1a662",
   "metadata": {},
   "source": [
    "## 5. Distribution of employees salaries for the whole company."
   ]
  },
  {
   "cell_type": "code",
   "execution_count": 16,
   "id": "b9ccac54",
   "metadata": {},
   "outputs": [
    {
     "data": {
      "text/plain": "<Figure size 936x432 with 1 Axes>",
      "image/png": "[encoded data removed]"
     },
     "metadata": {
      "needs_background": "light"
     },
     "output_type": "display_data"
    }
   ],
   "source": [
    "sns.histplot(data=hr, x='salary').set(title='Employees distribution by salary');"
   ]
  },
  {
   "cell_type": "markdown",
   "id": "b925c1c8",
   "metadata": {},
   "source": [
    "## 6. Distribution of employees salaries in every department separately."
   ]
  },
  {
   "cell_type": "code",
   "execution_count": 15,
   "id": "c792f509",
   "metadata": {},
   "outputs": [
    {
     "data": {
      "text/plain": "<Figure size 936x432 with 1 Axes>",
      "image/png": "[encoded data removed]"
     },
     "metadata": {
      "needs_background": "light"
     },
     "output_type": "display_data"
    }
   ],
   "source": [
    "sns.histplot(data=hr, x='department', hue='salary', multiple='stack').set(title='Employees distribution by salary by department')\n",
    "plt.xticks(rotation=45, ha='right');"
   ]
  },
  {
   "cell_type": "markdown",
   "id": "51209e8d",
   "metadata": {},
   "source": [
    "## 7. Determine if employees with high salary spend more time at work then the ones with lower salary."
   ]
  },
  {
   "cell_type": "markdown",
   "id": "ef75bf1e",
   "metadata": {},
   "source": [
    "H0: Time spent at work by employees with higher and lower salary is **THE SAME**\n",
    "H1: Time spent at work by employees with higher and lower salary is **DIFFERENT**"
   ]
  },
  {
   "cell_type": "code",
   "execution_count": 18,
   "id": "7eec39d5",
   "metadata": {},
   "outputs": [
    {
     "name": "stdout",
     "output_type": "stream",
     "text": [
      "199.86742118027485\n",
      "200.9965828321487\n",
      "Ttest_indResult(statistic=-0.7624331665385475, pvalue=0.4459045542257889)\n",
      "We cannot reject the null hypothesis, which means that employees with higher and lower salary don't spend different amount of time at work.\n"
     ]
    }
   ],
   "source": [
    "alpha = 0.05\n",
    "hr_hours_salary_high = hr[hr['salary'] == 'high']['average_monthly_hours'].dropna()\n",
    "hr_hours_salary_low = hr[hr['salary'] == 'low']['average_monthly_hours'].dropna()\n",
    "result = stats.ttest_ind(hr_hours_salary_high, hr_hours_salary_low, equal_var=False)\n",
    "\n",
    "print(hr_hours_salary_high.mean())\n",
    "print(hr_hours_salary_low.mean())\n",
    "print(result)\n",
    "higher_mean = ''\n",
    "\n",
    "if hr_hours_salary_high.mean() > hr_hours_salary_low.mean():\n",
    "    higher_mean = 'high'\n",
    "else:\n",
    "    higher_mean = 'low'\n",
    "\n",
    "if result.pvalue < alpha:\n",
    "    print(f'We reject the null hypothesis, which means that employees with higher and lower salary spend different amount of time at work. Based on the mean values employees with {higher_mean} salary spend more time at work.')\n",
    "else:\n",
    "    print('We cannot reject the null hypothesis, which means that employees with higher and lower salary don\\'t spend different amount of time at work.')"
   ]
  },
  {
   "cell_type": "markdown",
   "id": "f14fe5cd",
   "metadata": {},
   "source": [
    "## 8. Calculate the following indicators among employees who quit and who didn't (separately):"
   ]
  },
  {
   "cell_type": "code",
   "execution_count": 19,
   "id": "82be5c69",
   "metadata": {},
   "outputs": [],
   "source": [
    "hr_left = hr[hr['left'] == 1]\n",
    "hr_not_left = hr[hr['left'] == 0]"
   ]
  },
  {
   "cell_type": "markdown",
   "id": "be1ec072",
   "metadata": {},
   "source": [
    "### 8.1. Fraction of employees who got a promotion in the last 5 years"
   ]
  },
  {
   "cell_type": "code",
   "execution_count": 20,
   "id": "b458c5d6",
   "metadata": {},
   "outputs": [
    {
     "name": "stdout",
     "output_type": "stream",
     "text": [
      "Fraction of employees who got a promotion in the last 5 years among employees who quit:  0.005320638476617194\n",
      "Fraction of employees who got a promotion in the last 5 years among employees who didn't quit:  0.026251312565628283\n"
     ]
    }
   ],
   "source": [
    "print('Fraction of employees who got a promotion in the last 5 years among employees who quit: ', len(hr_left[hr_left['promotion_last_5years'] == 1]) / len(hr_left))\n",
    "print('Fraction of employees who got a promotion in the last 5 years among employees who didn\\'t quit: ', len(hr_not_left[hr_not_left['promotion_last_5years'] == 1]) / len(hr_not_left))"
   ]
  },
  {
   "cell_type": "markdown",
   "id": "2a2dc3be",
   "metadata": {},
   "source": [
    "### 8.2. Mean satisfaction level"
   ]
  },
  {
   "cell_type": "code",
   "execution_count": 21,
   "id": "94bab1a6",
   "metadata": {},
   "outputs": [
    {
     "name": "stdout",
     "output_type": "stream",
     "text": [
      "Mean satisfaction level among employees who quit:  0.44009801176140917\n",
      "Mean satisfaction level among employees who didn't quit:  0.666809590479516\n"
     ]
    }
   ],
   "source": [
    "print('Mean satisfaction level among employees who quit: ', hr_left['satisfaction_level'].mean())\n",
    "print('Mean satisfaction level among employees who didn\\'t quit: ', hr_not_left['satisfaction_level'].mean())"
   ]
  },
  {
   "cell_type": "markdown",
   "id": "6437c419",
   "metadata": {},
   "source": [
    "### 8.3. Mean number of projects"
   ]
  },
  {
   "cell_type": "code",
   "execution_count": 23,
   "id": "9c518395",
   "metadata": {},
   "outputs": [
    {
     "name": "stdout",
     "output_type": "stream",
     "text": [
      "Mean number of projects among employees who quit:  3.8555026603192384\n",
      "Mean number of projects among who didn't quit:  3.786664333216661\n"
     ]
    }
   ],
   "source": [
    "# Среднее количество проектов\n",
    "print('Mean number of projects among employees who quit: ', hr_left['number_project'].mean())\n",
    "print('Mean number of projects among who didn\\'t quit: ', hr_not_left['number_project'].mean())"
   ]
  },
  {
   "cell_type": "markdown",
   "source": [
    "## 9. Build an LDA (Linear discriminant analysis) model that determines whether an employee quits or not based on available factors (except department and salary)."
   ],
   "metadata": {
    "collapsed": false
   }
  },
  {
   "cell_type": "markdown",
   "id": "fc2a23ca",
   "metadata": {},
   "source": [
    "## 9.1. Drop columns department, salary, and left from the factors dataframe."
   ]
  },
  {
   "cell_type": "code",
   "execution_count": 25,
   "id": "29cbced3",
   "metadata": {},
   "outputs": [],
   "source": [
    "hr_lda = hr.drop(columns=['department', 'salary', 'left'])"
   ]
  },
  {
   "cell_type": "markdown",
   "id": "66d6c6bf",
   "metadata": {},
   "source": [
    "### 9.2. Split data into test and train samples"
   ]
  },
  {
   "cell_type": "code",
   "execution_count": 26,
   "id": "615a61ae",
   "metadata": {
    "id": "lFjqjX-iwCaW"
   },
   "outputs": [],
   "source": [
    "from sklearn.model_selection import train_test_split\n",
    "\n",
    "X_train, X_test, y_train, y_test = train_test_split(hr_lda, hr['left'], test_size=0.25)"
   ]
  },
  {
   "cell_type": "markdown",
   "source": [
    "### 9.3. Build an LDA model itself"
   ],
   "metadata": {
    "collapsed": false
   }
  },
  {
   "cell_type": "markdown",
   "id": "805d85ca",
   "metadata": {},
   "source": [
    "#### 9.3.1. Initiate model creation"
   ]
  },
  {
   "cell_type": "code",
   "execution_count": 27,
   "id": "856b3782",
   "metadata": {},
   "outputs": [],
   "source": [
    "from sklearn.discriminant_analysis import LinearDiscriminantAnalysis\n",
    "lda = LinearDiscriminantAnalysis()"
   ]
  },
  {
   "cell_type": "markdown",
   "source": [
    "#### 9.3.2. Train the model"
   ],
   "metadata": {
    "collapsed": false
   }
  },
  {
   "cell_type": "code",
   "execution_count": 31,
   "id": "f0cb7812",
   "metadata": {
    "colab": {
     "base_uri": "https://localhost:8080/",
     "height": 72
    },
    "id": "h5Ufc5sjwnZ3",
    "outputId": "7d6c7182-8c84-4a03-f784-e32307ab0270"
   },
   "outputs": [
    {
     "data": {
      "text/plain": "LinearDiscriminantAnalysis()"
     },
     "execution_count": 31,
     "metadata": {},
     "output_type": "execute_result"
    }
   ],
   "source": [
    "lda.fit(X_train, y_train)"
   ]
  },
  {
   "cell_type": "markdown",
   "source": [
    "### 9.4. Evaluate the model's quality based on test sample"
   ],
   "metadata": {
    "collapsed": false
   }
  },
  {
   "cell_type": "markdown",
   "id": "569f3e88",
   "metadata": {},
   "source": [
    "#### 9.4.1. Calculate accuracy"
   ]
  },
  {
   "cell_type": "code",
   "execution_count": 34,
   "id": "47dd4b16",
   "metadata": {
    "id": "B66nVhbk2Mf1"
   },
   "outputs": [
    {
     "data": {
      "text/plain": "0.7544"
     },
     "execution_count": 34,
     "metadata": {},
     "output_type": "execute_result"
    }
   ],
   "source": [
    "from sklearn.metrics import accuracy_score\n",
    "accuracy_score(y_test, lda.predict(X_test))"
   ]
  },
  {
   "cell_type": "markdown",
   "source": [
    "#### 9.4.2. Build a confusion matrix"
   ],
   "metadata": {
    "collapsed": false
   }
  },
  {
   "cell_type": "code",
   "execution_count": 33,
   "id": "b4272000",
   "metadata": {},
   "outputs": [
    {
     "data": {
      "text/plain": "array([[2581,  240],\n       [ 681,  248]])"
     },
     "execution_count": 33,
     "metadata": {},
     "output_type": "execute_result"
    }
   ],
   "source": [
    "from sklearn.metrics import confusion_matrix\n",
    "confusion_matrix(y_test, lda.predict(X_test))"
   ]
  },
  {
   "cell_type": "markdown",
   "id": "1a9be0cc",
   "metadata": {
    "pycharm": {
     "name": "#%% md\n"
    }
   },
   "source": [
    "### Conclusions:\n",
    "1. Model's accuracy - 0.7544, although not an ideal level, still is enough to use the model to one's benefit.\n",
    "2. Based on confusion matrix the model predicts employee leaving the company when he/she actually quit with the high level of precision.\n",
    "3. However it often predicts that employee didn't quit when he/she actually quit."
   ]
  }
 ],
 "metadata": {
  "kernelspec": {
   "display_name": "Python 3",
   "language": "python",
   "name": "python3"
  },
  "language_info": {
   "codemirror_mode": {
    "name": "ipython",
    "version": 3
   },
   "file_extension": ".py",
   "mimetype": "text/x-python",
   "name": "python",
   "nbconvert_exporter": "python",
   "pygments_lexer": "ipython3",
   "version": "3.8.5"
  }
 },
 "nbformat": 4,
 "nbformat_minor": 5
}